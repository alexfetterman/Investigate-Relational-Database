{
 "cells": [
  {
   "cell_type": "code",
   "execution_count": 2,
   "metadata": {},
   "outputs": [],
   "source": [
    "import pandas as pd"
   ]
  },
  {
   "cell_type": "markdown",
   "metadata": {},
   "source": [
    "### 1) joins, aggregates, aliases, where, group by, order by\n",
    "Creates a query that lists each movie, the film category it is classified in, and the number of times it has been rented out."
   ]
  },
  {
   "cell_type": "markdown",
   "metadata": {},
   "source": [
    "``` mysql\n",
    "SELECT f.title, c.name AS category, COUNT(r.rental_id) AS rental_count\n",
    "FROM category c\n",
    "JOIN film_category fc\n",
    "ON c.category_id = fc.category_id\n",
    "JOIN film f\n",
    "ON f.film_id = fc.film_id\n",
    "JOIN inventory i\n",
    "ON f.film_id = i.film_id\n",
    "JOIN rental r\n",
    "ON i.inventory_id = r.inventory_id\n",
    "WHERE c.name IN ('Animation', 'Children', 'Classics', 'Comedy', 'Family', 'Music')\n",
    "GROUP BY 1, 2\n",
    "ORDER BY 2, 1\n",
    "```"
   ]
  },
  {
   "cell_type": "markdown",
   "metadata": {},
   "source": [
    "### 2) window function, quartiles, IN\n",
    "Provides a table with the movie titles and divide them into 4 levels (first_quarter, second_quarter, third_quarter, and final_quarter) based on the quartiles (25%, 50% 75%) of the rental duration for movies across all categories."
   ]
  },
  {
   "cell_type": "markdown",
   "metadata": {},
   "source": [
    "``` mysql\n",
    "SELECT f.title,\n",
    "       c.name AS category,\n",
    "       f.rental_duration,\n",
    "       NTILE(4) OVER(ORDER BY f.rental_duration) AS quartile\n",
    "FROM category c\n",
    "JOIN film_category fc\n",
    "ON c.category_id = fc.category_id\n",
    "JOIN film f\n",
    "ON f.film_id = fc.film_id\n",
    "WHERE c.name IN ('Animation', 'Children', 'Classics', 'Comedy', 'Family', 'Music')\n",
    "```"
   ]
  },
  {
   "cell_type": "markdown",
   "metadata": {},
   "source": [
    "### 3) common table expressions (CTEs)\n",
    "Returns a table with the family-friendly film category, each of the quartiles, and the corresponding count of movies within each combination of film category for each corresponding rental duration category."
   ]
  },
  {
   "cell_type": "markdown",
   "metadata": {},
   "source": [
    "``` mysql\n",
    "WITH cat_quart AS \n",
    "    (SELECT f.title, c.name AS category, f.rental_duration, \n",
    "            NTILE(4) OVER(ORDER BY f.rental_duration) AS quartile\n",
    "     FROM category c\n",
    "     JOIN film_category fc\n",
    "     ON c.category_id = fc.category_id\n",
    "     JOIN film f\n",
    "     ON f.film_id = fc.film_id\n",
    "     WHERE c.name IN ('Animation', 'Children', 'Classics', \n",
    "                       'Comedy', 'Family', 'Music'))\n",
    "\n",
    "SELECT category, quartile, COUNT(*)\n",
    "FROM cat_quart\n",
    "GROUP BY 1, 2\n",
    "ORDER BY 1, 2\n",
    "```"
   ]
  },
  {
   "cell_type": "markdown",
   "metadata": {},
   "source": [
    "### 4) sub-queries\n",
    "Inquiry 1: How do the total number of rentals for each family-friendly genre compare to the average total number of rentals across all genres?"
   ]
  },
  {
   "cell_type": "markdown",
   "metadata": {},
   "source": [
    "*Show each family friendly genre and the number of rental instances for each.*"
   ]
  },
  {
   "cell_type": "markdown",
   "metadata": {},
   "source": [
    "``` mysql\n",
    "SELECT category, SUM(rental_count) AS total_rentals\n",
    "FROM (SELECT f.title, c.name AS category, COUNT(r.rental_id) AS rental_count\n",
    "      FROM category c\n",
    "      JOIN film_category fc\n",
    "      ON c.category_id = fc.category_id\n",
    "      JOIN film f\n",
    "      ON f.film_id = fc.film_id\n",
    "      JOIN inventory i\n",
    "      ON f.film_id = i.film_id\n",
    "      JOIN rental r\n",
    "      ON i.inventory_id = r.inventory_id\n",
    "      WHERE c.name IN ('Animation', 'Children', 'Classics', 'Comedy', 'Family', 'Music')\n",
    "      GROUP BY 1, 2) fam_movies\n",
    "GROUP BY 1\n",
    "```"
   ]
  },
  {
   "cell_type": "markdown",
   "metadata": {},
   "source": [
    "*Show average total rentals across all genres.*"
   ]
  },
  {
   "cell_type": "markdown",
   "metadata": {},
   "source": [
    "``` mysql\n",
    "WITH base AS (SELECT category, SUM(rental_count) AS total_rentals\n",
    "              FROM (SELECT f.title, c.name AS category, COUNT(r.rental_id) AS rental_count\n",
    "              FROM category c\n",
    "              JOIN film_category fc\n",
    "              ON c.category_id = fc.category_id\n",
    "              JOIN film f\n",
    "              ON f.film_id = fc.film_id\n",
    "              JOIN inventory i\n",
    "              ON f.film_id = i.film_id\n",
    "              JOIN rental r\n",
    "              ON i.inventory_id = r.inventory_id\n",
    "              GROUP BY 1, 2) fam_movies\n",
    "              GROUP BY 1)\n",
    "SELECT AVG(total_rentals)\n",
    "FROM base\n",
    "```"
   ]
  },
  {
   "cell_type": "markdown",
   "metadata": {},
   "source": [
    "### Inquiry 2\n",
    "All payment dates are from 2007. How do the two stores’ running revenues compare over the 2007 year?"
   ]
  },
  {
   "cell_type": "code",
   "execution_count": null,
   "metadata": {},
   "outputs": [],
   "source": []
  }
 ],
 "metadata": {
  "kernelspec": {
   "display_name": "Python 3",
   "language": "python",
   "name": "python3"
  },
  "language_info": {
   "codemirror_mode": {
    "name": "ipython",
    "version": 3
   },
   "file_extension": ".py",
   "mimetype": "text/x-python",
   "name": "python",
   "nbconvert_exporter": "python",
   "pygments_lexer": "ipython3",
   "version": "3.7.1"
  }
 },
 "nbformat": 4,
 "nbformat_minor": 2
}
