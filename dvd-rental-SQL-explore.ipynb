{
 "cells": [
  {
   "cell_type": "code",
   "execution_count": 1,
   "metadata": {},
   "outputs": [],
   "source": [
    "import pandas as pd"
   ]
  },
  {
   "cell_type": "markdown",
   "metadata": {},
   "source": [
    "### 1) JOIN, aggregates, aliases, WHERE, GROUP BY, ORDER BY\n",
    "Creates a query that lists each movie, the film category it is classified in, and the number of times it has been rented out."
   ]
  },
  {
   "cell_type": "markdown",
   "metadata": {},
   "source": [
    "``` mysql\n",
    "SELECT f.title, c.name AS category, COUNT(r.rental_id) AS rental_count\n",
    "FROM category c\n",
    "JOIN film_category fc\n",
    "ON c.category_id = fc.category_id\n",
    "JOIN film f\n",
    "ON f.film_id = fc.film_id\n",
    "JOIN inventory i\n",
    "ON f.film_id = i.film_id\n",
    "JOIN rental r\n",
    "ON i.inventory_id = r.inventory_id\n",
    "WHERE c.name IN ('Animation', 'Children', 'Classics', 'Comedy', 'Family', 'Music')\n",
    "GROUP BY 1, 2\n",
    "ORDER BY 2, 1\n",
    "```"
   ]
  },
  {
   "cell_type": "markdown",
   "metadata": {},
   "source": [
    "### 2) window function, NTILE, IN\n",
    "Provides a table with the movie titles and divide them into 4 levels (first_quarter, second_quarter, third_quarter, and final_quarter) based on the quartiles (25%, 50% 75%) of the rental duration for movies across all categories.\n",
    "``` mysql\n",
    "SELECT f.title,\n",
    "       c.name AS category,\n",
    "       f.rental_duration,\n",
    "       NTILE(4) OVER(ORDER BY f.rental_duration) AS quartile\n",
    "FROM category c\n",
    "JOIN film_category fc\n",
    "ON c.category_id = fc.category_id\n",
    "JOIN film f\n",
    "ON f.film_id = fc.film_id\n",
    "WHERE c.name IN ('Animation', 'Children', 'Classics', 'Comedy', 'Family', 'Music')\n",
    "```"
   ]
  },
  {
   "cell_type": "markdown",
   "metadata": {},
   "source": [
    "### 3) common table expressions (CTEs)\n",
    "Returns a table with the family-friendly film category, each of the quartiles, and the corresponding count of movies within each combination of film category for each corresponding rental duration category.\n",
    "``` mysql\n",
    "WITH cat_quart AS \n",
    "    (SELECT f.title, c.name AS category, f.rental_duration, \n",
    "            NTILE(4) OVER(ORDER BY f.rental_duration) AS quartile\n",
    "     FROM category c\n",
    "     JOIN film_category fc\n",
    "     ON c.category_id = fc.category_id\n",
    "     JOIN film f\n",
    "     ON f.film_id = fc.film_id\n",
    "     WHERE c.name IN ('Animation', 'Children', 'Classics', \n",
    "                       'Comedy', 'Family', 'Music'))\n",
    "\n",
    "SELECT category, quartile, COUNT(*)\n",
    "FROM cat_quart\n",
    "GROUP BY 1, 2\n",
    "ORDER BY 1, 2\n",
    "```"
   ]
  },
  {
   "cell_type": "markdown",
   "metadata": {},
   "source": [
    "### 4) sub-queries\n",
    "**Inquiry 1**: How do the total number of rentals for each family-friendly genre compare to the average total number of rentals across all genres?"
   ]
  },
  {
   "cell_type": "markdown",
   "metadata": {},
   "source": [
    "*Show each family friendly genre and the number of rental instances for each.*\n",
    "``` mysql\n",
    "SELECT category, SUM(rental_count) AS total_rentals\n",
    "FROM (SELECT f.title, c.name AS category, COUNT(r.rental_id) AS rental_count\n",
    "      FROM category c\n",
    "      JOIN film_category fc\n",
    "      ON c.category_id = fc.category_id\n",
    "      JOIN film f\n",
    "      ON f.film_id = fc.film_id\n",
    "      JOIN inventory i\n",
    "      ON f.film_id = i.film_id\n",
    "      JOIN rental r\n",
    "      ON i.inventory_id = r.inventory_id\n",
    "      WHERE c.name IN ('Animation', 'Children', 'Classics', 'Comedy', 'Family', 'Music')\n",
    "      GROUP BY 1, 2) fam_movies\n",
    "GROUP BY 1\n",
    "```"
   ]
  },
  {
   "cell_type": "markdown",
   "metadata": {},
   "source": [
    "*Show average total rentals across all genres.*\n",
    "``` mysql\n",
    "WITH base AS \n",
    "    (SELECT category, SUM(rental_count) AS total_rentals\n",
    "     FROM (SELECT f.title, c.name AS category, COUNT(r.rental_id) AS rental_count\n",
    "           FROM category c\n",
    "           JOIN film_category fc\n",
    "           ON c.category_id = fc.category_id\n",
    "           JOIN film f\n",
    "           ON f.film_id = fc.film_id\n",
    "           JOIN inventory i\n",
    "           ON f.film_id = i.film_id\n",
    "           JOIN rental r\n",
    "           ON i.inventory_id = r.inventory_id\n",
    "           GROUP BY 1, 2) fam_movies\n",
    "     GROUP BY 1)\n",
    "SELECT AVG(total_rentals)\n",
    "FROM base\n",
    "```"
   ]
  },
  {
   "cell_type": "markdown",
   "metadata": {},
   "source": [
    "### 5) multiple CTEs, running total, UNION, DATE_TRUNC\n",
    "**Inquiry 2**: All payment dates are from 2007. How do the two stores’ running revenues compare over the 2007 year?"
   ]
  },
  {
   "cell_type": "markdown",
   "metadata": {},
   "source": [
    "*I use two CTEs to create a table for each store showing the total revenue for each day. I then use UNION ALL and a window to combine the tables and show the running total revenue by\n",
    "store ordered by day. I wanted to do this with one query, paritioning by ID and ordering by day, but couldn't figure out how to combine DATE_TRUNC and OVER to get the results I wanted.*\n",
    "``` mysql\n",
    "WITH s1_dayrev AS\n",
    "    (SELECT\n",
    "        DATE_TRUNC('day', p.payment_date) AS day,\n",
    "        s.store_id AS store,\n",
    "        SUM(p.amount) AS day_total\n",
    "    FROM payment p\n",
    "    JOIN staff st\n",
    "    ON st.staff_id = p.staff_id\n",
    "    JOIN store s\n",
    "    ON st.store_id = s.store_id\n",
    "    WHERE s.store_id = 1\n",
    "    GROUP BY 1,2),\n",
    "\n",
    "\ts2_dayrev AS\n",
    "    (SELECT\n",
    "        DATE_TRUNC('day', p.payment_date) AS day,\n",
    "        s.store_id AS store,\n",
    "        SUM(p.amount) AS day_total\n",
    "    FROM payment p\n",
    "    JOIN staff st\n",
    "    ON st.staff_id = p.staff_id\n",
    "    JOIN store s\n",
    "    ON st.store_id = s.store_id\n",
    "    WHERE s.store_id = 2\n",
    "    GROUP BY 1, 2)\n",
    "\n",
    "SELECT day, store, day_total,\n",
    "\tSUM(day_total) OVER (ORDER BY day) AS running_total_revenue\n",
    "FROM s1_dayrev\n",
    "\n",
    "UNION ALL\n",
    "\n",
    "SELECT day, store, day_total,\n",
    "\tSUM(day_total) OVER (ORDER BY day) AS running_total_revenue\n",
    "FROM s2_dayrev\n",
    "```"
   ]
  },
  {
   "cell_type": "markdown",
   "metadata": {},
   "source": [
    "### 6) CASE\n",
    "**Inquiry**: How are the customers based in Europe, Asia, and Africa distributed\n",
    "by country?"
   ]
  },
  {
   "cell_type": "markdown",
   "metadata": {},
   "source": [
    "*Categorize countries into \"low,\" \"medium,\" \"high,\" and \"very high\" customer count levels using a CASE clause and GROUP BY.*\n",
    "``` mysql\n",
    "SELECT co.country,\n",
    "\t  COUNT(customer_id) AS customer_ct,\n",
    "      CASE WHEN COUNT(customer_id) < 15 THEN 'low'\n",
    "           WHEN COUNT(customer_id) < 30 THEN 'medium'\n",
    "           WHEN COUNT(customer_id) < 45 THEN 'high'\n",
    "           ELSE 'very high' END AS customer_ct_level\n",
    "FROM country co\n",
    "JOIN city ci\n",
    "ON co.country_id = ci.country_id\n",
    "JOIN address a\n",
    "ON ci.city_id = a.city_id\n",
    "JOIN customer cu\n",
    "ON a.address_id = cu.address_id\n",
    "GROUP BY 1\n",
    "ORDER BY 2 DESC\n",
    "```"
   ]
  },
  {
   "cell_type": "markdown",
   "metadata": {},
   "source": [
    "### 7) LEFT JOIN, CONCAT, DISTINCT\n",
    "**Inquiry**: Is there a correlation between how prolific an actor is and the\n",
    "number of times the movies they are in get rented?"
   ]
  },
  {
   "cell_type": "markdown",
   "metadata": {},
   "source": [
    "*Here I concatenated the first and last names of each actor, counted the number of films they have been in, and counted the total number of times a movie with each actor had been rented. To be clear, the third column is the result of taking every movie actor X has been in and summing the number of times each movie in that set has been rented.*\n",
    "``` mysql\n",
    "SELECT a.first_name||' '||a.last_name AS actor,\n",
    "\t   COUNT (DISTINCT f.film_id) AS number_of_films,\n",
    "       COUNT(r.rental_id) AS number_of_rents\n",
    "FROM actor a\n",
    "LEFT JOIN film_actor fa\n",
    "ON a.actor_id = fa.actor_id\n",
    "JOIN film f\n",
    "ON f.film_id = fa.film_id\n",
    "JOIN inventory i\n",
    "ON f.film_id = i.film_id\n",
    "JOIN rental r\n",
    "ON i.inventory_id = r.inventory_id\n",
    "GROUP BY 1\n",
    "ORDER BY 2 DESC\n",
    "```"
   ]
  },
  {
   "cell_type": "code",
   "execution_count": null,
   "metadata": {},
   "outputs": [],
   "source": []
  },
  {
   "cell_type": "code",
   "execution_count": null,
   "metadata": {},
   "outputs": [],
   "source": []
  }
 ],
 "metadata": {
  "kernelspec": {
   "display_name": "Python 3",
   "language": "python",
   "name": "python3"
  },
  "language_info": {
   "codemirror_mode": {
    "name": "ipython",
    "version": 3
   },
   "file_extension": ".py",
   "mimetype": "text/x-python",
   "name": "python",
   "nbconvert_exporter": "python",
   "pygments_lexer": "ipython3",
   "version": "3.7.1"
  }
 },
 "nbformat": 4,
 "nbformat_minor": 2
}
