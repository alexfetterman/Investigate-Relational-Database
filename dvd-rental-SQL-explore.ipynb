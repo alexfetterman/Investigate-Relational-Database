{
 "cells": [
  {
   "cell_type": "markdown",
   "metadata": {},
   "source": [
    "### Inquiry 1\n",
    "How do the total number of rentals for each family-friendly genre compare to the average total number of rentals across all genres?"
   ]
  },
  {
   "cell_type": "markdown",
   "metadata": {},
   "source": [
    "*Show each family friendly genre and the number of rental instances for each.*"
   ]
  },
  {
   "cell_type": "markdown",
   "metadata": {},
   "source": [
    "``` mysql\n",
    "SELECT category, SUM(rental_count) AS total_rentals\n",
    "FROM (SELECT f.title, c.name AS category, COUNT(r.rental_id) AS rental_count\n",
    "      FROM category c\n",
    "      JOIN film_category fc\n",
    "      ON c.category_id = fc.category_id\n",
    "      JOIN film f\n",
    "      ON f.film_id = fc.film_id\n",
    "      JOIN inventory i\n",
    "      ON f.film_id = i.film_id\n",
    "      JOIN rental r\n",
    "      ON i.inventory_id = r.inventory_id\n",
    "      WHERE c.name IN ('Animation', 'Children', 'Classics', 'Comedy', 'Family', 'Music')\n",
    "      GROUP BY 1, 2) fam_movies\n",
    "GROUP BY 1\n",
    "```"
   ]
  },
  {
   "cell_type": "markdown",
   "metadata": {},
   "source": [
    "*Show average total rentals across all genres.*"
   ]
  },
  {
   "cell_type": "markdown",
   "metadata": {},
   "source": [
    "``` mysql\n",
    "WITH base AS (SELECT category, SUM(rental_count) AS total_rentals\n",
    "              FROM (SELECT f.title, c.name AS category, COUNT(r.rental_id) AS rental_count\n",
    "              FROM category c\n",
    "              JOIN film_category fc\n",
    "              ON c.category_id = fc.category_id\n",
    "              JOIN film f\n",
    "              ON f.film_id = fc.film_id\n",
    "              JOIN inventory i\n",
    "              ON f.film_id = i.film_id\n",
    "              JOIN rental r\n",
    "              ON i.inventory_id = r.inventory_id\n",
    "              GROUP BY 1, 2) fam_movies\n",
    "              GROUP BY 1)\n",
    "SELECT AVG(total_rentals)\n",
    "FROM base\n",
    "```"
   ]
  },
  {
   "cell_type": "markdown",
   "metadata": {},
   "source": [
    "### Inquiry 2\n",
    "All payment dates are from 2007. How do the two stores’ running revenues compare over the 2007 year?"
   ]
  },
  {
   "cell_type": "code",
   "execution_count": null,
   "metadata": {},
   "outputs": [],
   "source": []
  }
 ],
 "metadata": {
  "kernelspec": {
   "display_name": "Python 3",
   "language": "python",
   "name": "python3"
  },
  "language_info": {
   "codemirror_mode": {
    "name": "ipython",
    "version": 3
   },
   "file_extension": ".py",
   "mimetype": "text/x-python",
   "name": "python",
   "nbconvert_exporter": "python",
   "pygments_lexer": "ipython3",
   "version": "3.7.1"
  }
 },
 "nbformat": 4,
 "nbformat_minor": 2
}
